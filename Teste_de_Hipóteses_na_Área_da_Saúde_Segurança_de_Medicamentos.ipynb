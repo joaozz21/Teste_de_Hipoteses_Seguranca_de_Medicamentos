{
  "nbformat": 4,
  "nbformat_minor": 0,
  "metadata": {
    "colab": {
      "provenance": [],
      "mount_file_id": "14pwJ6Oi_1JEIP_AiwXsaSL-crwCaQrIr",
      "authorship_tag": "ABX9TyP/G82oz+R0ZwTw4Wg/a4+v",
      "include_colab_link": true
    },
    "kernelspec": {
      "name": "python3",
      "display_name": "Python 3"
    },
    "language_info": {
      "name": "python"
    }
  },
  "cells": [
    {
      "cell_type": "markdown",
      "metadata": {
        "id": "view-in-github",
        "colab_type": "text"
      },
      "source": [
        "<a href=\"https://colab.research.google.com/github/joaozz21/Teste_de_Hipoteses_Seguranca_de_Medicamentos/blob/main/Teste_de_Hip%C3%B3teses_na_%C3%81rea_da_Sa%C3%BAde_Seguran%C3%A7a_de_Medicamentos.ipynb\" target=\"_parent\"><img src=\"https://colab.research.google.com/assets/colab-badge.svg\" alt=\"Open In Colab\"/></a>"
      ]
    },
    {
      "cell_type": "markdown",
      "source": [
        "# Teste de Hipóteses na Área da Saúde: Segurança de Medicamentos\n",
        "\n",
        "Uma empresa farmacêutica GlobalMed acabou de concluir um ensaio clínico controlado e randomizado. Para promover a transparência e reprodutibilidade dos resultados do medicamento, a GlobalMed apresentou o conjunto de dados à sua organização, uma entidade sem fins lucrativos especializada em segurança de medicamentos.\n",
        "\n",
        "O conjunto de dados fornecido continha informações sobre cinco efeitos adversos, dados demográficos, sinais vitais, entre outros. Sua organização está principalmente interessada nas reações adversas ao medicamento. Deseja-se saber se estas reações, caso existam, são estatisticamente significativas. Você foi designado para explorar os dados e responder algumas questões específicas.\n",
        "\n",
        "O conjunto de dados `drug_safety.csv` foi obtido do [Hbiostat](https://hbiostat.org/data/), cortesia do Departamento de Bioestatística da Universidade Vanderbilt. Ele incluía cinco efeitos adversos: dor de cabeça, dor abdominal, dispepsia, infecção do trato respiratório superior, doença pulmonar obstrutiva crônica (DPOC), além de dados demográficos, sinais vitais e medidas laboratoriais. A proporção entre observações do medicamento e do placebo é de 2 para 1.\n",
        "\n",
        "Para este projeto, o conjunto de dados foi modificado para refletir a presença e ausência de efeitos adversos `adverse_effects` e o número de efeitos adversos em um único indivíduo `num_effects`.\n",
        "\n",
        "As colunas no conjunto de dados modificado são:\n",
        "\n",
        "| Coluna | Descrição |\n",
        "|--------|-----------|\n",
        "|`sex` | O gênero do indivíduo |\n",
        "|`age` | A idade do indivíduo |\n",
        "|`week` | A semana do teste do medicamento |\n",
        "|`trx` | Os grupos de tratamento (Medicamento) e controle (Placebo) |\n",
        "|`wbc` | A contagem de leucócitos |\n",
        "|`rbc` | A contagem de hemácias |\n",
        "|`adverse_effects` | A presença de pelo menos um efeito adverso |\n",
        "|`num_effects` | O número de efeitos adversos experimentados por um único indivíduo |\n",
        "\n",
        "O conjunto de dados original pode ser encontrado [aqui](https://hbiostat.org/data/repo/safety.rda).\n",
        "\n",
        "Sua organização solicitou que você explorasse e respondesse algumas questões a partir dos dados coletados. Consulte as instruções do projeto."
      ],
      "metadata": {
        "id": "RfglbI5YZnKZ"
      }
    },
    {
      "cell_type": "code",
      "execution_count": 2,
      "metadata": {
        "colab": {
          "base_uri": "https://localhost:8080/",
          "height": 373
        },
        "id": "_QN9ao_9ZVGf",
        "outputId": "7687bd11-9f9d-41a9-8140-f53e47ca00bf"
      },
      "outputs": [
        {
          "output_type": "error",
          "ename": "FileNotFoundError",
          "evalue": "[Errno 2] No such file or directory: '/content/dataset/drug_safety.csv'",
          "traceback": [
            "\u001b[0;31m---------------------------------------------------------------------------\u001b[0m",
            "\u001b[0;31mFileNotFoundError\u001b[0m                         Traceback (most recent call last)",
            "\u001b[0;32m<ipython-input-2-78941b7ee076>\u001b[0m in \u001b[0;36m<cell line: 12>\u001b[0;34m()\u001b[0m\n\u001b[1;32m     10\u001b[0m \u001b[0;34m\u001b[0m\u001b[0m\n\u001b[1;32m     11\u001b[0m \u001b[0;31m# Carregando o dataset\u001b[0m\u001b[0;34m\u001b[0m\u001b[0;34m\u001b[0m\u001b[0m\n\u001b[0;32m---> 12\u001b[0;31m \u001b[0mdrug_safety\u001b[0m \u001b[0;34m=\u001b[0m \u001b[0mpd\u001b[0m\u001b[0;34m.\u001b[0m\u001b[0mread_csv\u001b[0m\u001b[0;34m(\u001b[0m\u001b[0;34m'/content/dataset/drug_safety.csv'\u001b[0m\u001b[0;34m)\u001b[0m\u001b[0;34m\u001b[0m\u001b[0;34m\u001b[0m\u001b[0m\n\u001b[0m\u001b[1;32m     13\u001b[0m \u001b[0;34m\u001b[0m\u001b[0m\n\u001b[1;32m     14\u001b[0m \u001b[0;31m# Começando o código...\u001b[0m\u001b[0;34m\u001b[0m\u001b[0;34m\u001b[0m\u001b[0m\n",
            "\u001b[0;32m/usr/local/lib/python3.10/dist-packages/pandas/io/parsers/readers.py\u001b[0m in \u001b[0;36mread_csv\u001b[0;34m(filepath_or_buffer, sep, delimiter, header, names, index_col, usecols, dtype, engine, converters, true_values, false_values, skipinitialspace, skiprows, skipfooter, nrows, na_values, keep_default_na, na_filter, verbose, skip_blank_lines, parse_dates, infer_datetime_format, keep_date_col, date_parser, date_format, dayfirst, cache_dates, iterator, chunksize, compression, thousands, decimal, lineterminator, quotechar, quoting, doublequote, escapechar, comment, encoding, encoding_errors, dialect, on_bad_lines, delim_whitespace, low_memory, memory_map, float_precision, storage_options, dtype_backend)\u001b[0m\n\u001b[1;32m   1024\u001b[0m     \u001b[0mkwds\u001b[0m\u001b[0;34m.\u001b[0m\u001b[0mupdate\u001b[0m\u001b[0;34m(\u001b[0m\u001b[0mkwds_defaults\u001b[0m\u001b[0;34m)\u001b[0m\u001b[0;34m\u001b[0m\u001b[0;34m\u001b[0m\u001b[0m\n\u001b[1;32m   1025\u001b[0m \u001b[0;34m\u001b[0m\u001b[0m\n\u001b[0;32m-> 1026\u001b[0;31m     \u001b[0;32mreturn\u001b[0m \u001b[0m_read\u001b[0m\u001b[0;34m(\u001b[0m\u001b[0mfilepath_or_buffer\u001b[0m\u001b[0;34m,\u001b[0m \u001b[0mkwds\u001b[0m\u001b[0;34m)\u001b[0m\u001b[0;34m\u001b[0m\u001b[0;34m\u001b[0m\u001b[0m\n\u001b[0m\u001b[1;32m   1027\u001b[0m \u001b[0;34m\u001b[0m\u001b[0m\n\u001b[1;32m   1028\u001b[0m \u001b[0;34m\u001b[0m\u001b[0m\n",
            "\u001b[0;32m/usr/local/lib/python3.10/dist-packages/pandas/io/parsers/readers.py\u001b[0m in \u001b[0;36m_read\u001b[0;34m(filepath_or_buffer, kwds)\u001b[0m\n\u001b[1;32m    618\u001b[0m \u001b[0;34m\u001b[0m\u001b[0m\n\u001b[1;32m    619\u001b[0m     \u001b[0;31m# Create the parser.\u001b[0m\u001b[0;34m\u001b[0m\u001b[0;34m\u001b[0m\u001b[0m\n\u001b[0;32m--> 620\u001b[0;31m     \u001b[0mparser\u001b[0m \u001b[0;34m=\u001b[0m \u001b[0mTextFileReader\u001b[0m\u001b[0;34m(\u001b[0m\u001b[0mfilepath_or_buffer\u001b[0m\u001b[0;34m,\u001b[0m \u001b[0;34m**\u001b[0m\u001b[0mkwds\u001b[0m\u001b[0;34m)\u001b[0m\u001b[0;34m\u001b[0m\u001b[0;34m\u001b[0m\u001b[0m\n\u001b[0m\u001b[1;32m    621\u001b[0m \u001b[0;34m\u001b[0m\u001b[0m\n\u001b[1;32m    622\u001b[0m     \u001b[0;32mif\u001b[0m \u001b[0mchunksize\u001b[0m \u001b[0;32mor\u001b[0m \u001b[0miterator\u001b[0m\u001b[0;34m:\u001b[0m\u001b[0;34m\u001b[0m\u001b[0;34m\u001b[0m\u001b[0m\n",
            "\u001b[0;32m/usr/local/lib/python3.10/dist-packages/pandas/io/parsers/readers.py\u001b[0m in \u001b[0;36m__init__\u001b[0;34m(self, f, engine, **kwds)\u001b[0m\n\u001b[1;32m   1618\u001b[0m \u001b[0;34m\u001b[0m\u001b[0m\n\u001b[1;32m   1619\u001b[0m         \u001b[0mself\u001b[0m\u001b[0;34m.\u001b[0m\u001b[0mhandles\u001b[0m\u001b[0;34m:\u001b[0m \u001b[0mIOHandles\u001b[0m \u001b[0;34m|\u001b[0m \u001b[0;32mNone\u001b[0m \u001b[0;34m=\u001b[0m \u001b[0;32mNone\u001b[0m\u001b[0;34m\u001b[0m\u001b[0;34m\u001b[0m\u001b[0m\n\u001b[0;32m-> 1620\u001b[0;31m         \u001b[0mself\u001b[0m\u001b[0;34m.\u001b[0m\u001b[0m_engine\u001b[0m \u001b[0;34m=\u001b[0m \u001b[0mself\u001b[0m\u001b[0;34m.\u001b[0m\u001b[0m_make_engine\u001b[0m\u001b[0;34m(\u001b[0m\u001b[0mf\u001b[0m\u001b[0;34m,\u001b[0m \u001b[0mself\u001b[0m\u001b[0;34m.\u001b[0m\u001b[0mengine\u001b[0m\u001b[0;34m)\u001b[0m\u001b[0;34m\u001b[0m\u001b[0;34m\u001b[0m\u001b[0m\n\u001b[0m\u001b[1;32m   1621\u001b[0m \u001b[0;34m\u001b[0m\u001b[0m\n\u001b[1;32m   1622\u001b[0m     \u001b[0;32mdef\u001b[0m \u001b[0mclose\u001b[0m\u001b[0;34m(\u001b[0m\u001b[0mself\u001b[0m\u001b[0;34m)\u001b[0m \u001b[0;34m->\u001b[0m \u001b[0;32mNone\u001b[0m\u001b[0;34m:\u001b[0m\u001b[0;34m\u001b[0m\u001b[0;34m\u001b[0m\u001b[0m\n",
            "\u001b[0;32m/usr/local/lib/python3.10/dist-packages/pandas/io/parsers/readers.py\u001b[0m in \u001b[0;36m_make_engine\u001b[0;34m(self, f, engine)\u001b[0m\n\u001b[1;32m   1878\u001b[0m                 \u001b[0;32mif\u001b[0m \u001b[0;34m\"b\"\u001b[0m \u001b[0;32mnot\u001b[0m \u001b[0;32min\u001b[0m \u001b[0mmode\u001b[0m\u001b[0;34m:\u001b[0m\u001b[0;34m\u001b[0m\u001b[0;34m\u001b[0m\u001b[0m\n\u001b[1;32m   1879\u001b[0m                     \u001b[0mmode\u001b[0m \u001b[0;34m+=\u001b[0m \u001b[0;34m\"b\"\u001b[0m\u001b[0;34m\u001b[0m\u001b[0;34m\u001b[0m\u001b[0m\n\u001b[0;32m-> 1880\u001b[0;31m             self.handles = get_handle(\n\u001b[0m\u001b[1;32m   1881\u001b[0m                 \u001b[0mf\u001b[0m\u001b[0;34m,\u001b[0m\u001b[0;34m\u001b[0m\u001b[0;34m\u001b[0m\u001b[0m\n\u001b[1;32m   1882\u001b[0m                 \u001b[0mmode\u001b[0m\u001b[0;34m,\u001b[0m\u001b[0;34m\u001b[0m\u001b[0;34m\u001b[0m\u001b[0m\n",
            "\u001b[0;32m/usr/local/lib/python3.10/dist-packages/pandas/io/common.py\u001b[0m in \u001b[0;36mget_handle\u001b[0;34m(path_or_buf, mode, encoding, compression, memory_map, is_text, errors, storage_options)\u001b[0m\n\u001b[1;32m    871\u001b[0m         \u001b[0;32mif\u001b[0m \u001b[0mioargs\u001b[0m\u001b[0;34m.\u001b[0m\u001b[0mencoding\u001b[0m \u001b[0;32mand\u001b[0m \u001b[0;34m\"b\"\u001b[0m \u001b[0;32mnot\u001b[0m \u001b[0;32min\u001b[0m \u001b[0mioargs\u001b[0m\u001b[0;34m.\u001b[0m\u001b[0mmode\u001b[0m\u001b[0;34m:\u001b[0m\u001b[0;34m\u001b[0m\u001b[0;34m\u001b[0m\u001b[0m\n\u001b[1;32m    872\u001b[0m             \u001b[0;31m# Encoding\u001b[0m\u001b[0;34m\u001b[0m\u001b[0;34m\u001b[0m\u001b[0m\n\u001b[0;32m--> 873\u001b[0;31m             handle = open(\n\u001b[0m\u001b[1;32m    874\u001b[0m                 \u001b[0mhandle\u001b[0m\u001b[0;34m,\u001b[0m\u001b[0;34m\u001b[0m\u001b[0;34m\u001b[0m\u001b[0m\n\u001b[1;32m    875\u001b[0m                 \u001b[0mioargs\u001b[0m\u001b[0;34m.\u001b[0m\u001b[0mmode\u001b[0m\u001b[0;34m,\u001b[0m\u001b[0;34m\u001b[0m\u001b[0;34m\u001b[0m\u001b[0m\n",
            "\u001b[0;31mFileNotFoundError\u001b[0m: [Errno 2] No such file or directory: '/content/dataset/drug_safety.csv'"
          ]
        }
      ],
      "source": [
        "# Importando libraries\n",
        "import numpy as np\n",
        "import pandas as pd\n",
        "from statsmodels.stats.proportion import proportions_ztest\n",
        "from scipy.stats import chi2_contingency\n",
        "from scipy.stats import ttest_ind\n",
        "import statsmodels.api as sm\n",
        "import matplotlib.pyplot as plt\n",
        "import seaborn as sns\n",
        "\n",
        "# Carregando o dataset\n",
        "drug_safety = pd.read_csv('/content/dataset/drug_safety.csv')\n",
        "\n",
        "# Começando o código...\n",
        "drug_safety.head()"
      ]
    },
    {
      "cell_type": "code",
      "source": [
        "drug_safety.info()"
      ],
      "metadata": {
        "id": "IZwMg0TwehAh"
      },
      "execution_count": null,
      "outputs": []
    },
    {
      "cell_type": "code",
      "source": [
        "drug_safety.describe()"
      ],
      "metadata": {
        "id": "v-dK5nhre1Ru"
      },
      "execution_count": null,
      "outputs": []
    },
    {
      "cell_type": "code",
      "source": [
        "# Explorando a distribuição dos efeitos adversos por grupo de tratamento\n",
        "plt.figure(figsize=(10, 6))\n",
        "sns.countplot(x='adverse_effects', hue='trx', data=drug_safety)\n",
        "plt.title('Distribuição de Efeitos Adversos por Grupo de Tratamento')\n",
        "plt.xlabel('Efeitos Adversos')\n",
        "plt.ylabel('Contagem')\n",
        "plt.show()"
      ],
      "metadata": {
        "id": "dGMT3_AGe6RB"
      },
      "execution_count": null,
      "outputs": []
    },
    {
      "cell_type": "code",
      "source": [
        "# Explorando a distribuição do número de efeitos adversos por grupo de tratamento\n",
        "plt.figure(figsize=(10, 6))\n",
        "sns.countplot(x='num_effects', hue='trx', data=drug_safety)\n",
        "plt.title('Distribuição do Número de Efeitos Adversos por Grupo de Tratamento')\n",
        "plt.xlabel('Número de Efeitos Adversos')\n",
        "plt.ylabel('Contagem')\n",
        "plt.show()"
      ],
      "metadata": {
        "id": "DizdbzQkgoKB"
      },
      "execution_count": null,
      "outputs": []
    },
    {
      "cell_type": "markdown",
      "source": [
        "# **QUESTÃO 1:**\n",
        "Determine se a proporção de efeitos adversos difere significativamente entre os grupos Medicamento e Placebo, salvando o valor-p como uma variável chamada **two_sample_p_value**."
      ],
      "metadata": {
        "id": "5W5MUe6OhWLZ"
      }
    },
    {
      "cell_type": "markdown",
      "source": [
        "Uma matriz de contingência serve como uma tabela que organiza sistematicamente os dados em categorias que se cruzam, fornecendo uma representação visual da distribuição combinada de duas variáveis categóricas. Ela se mostra particularmente valiosa ao explorar a inter-relação entre dois fatores qualitativos e investigar como as frequências dentro dessas categorias coincidem.\n",
        "\n",
        "Nesta representação tabular, cada célula contém a contagem de observações que se enquadram em combinações específicas de categorias de variáveis. A matriz de contingência encontra ampla utilidade em análises estatísticas, notadamente em exames de independência e associação entre variáveis categóricas. Uma aplicação comum é o teste qui-quadrado, que avalia se duas variáveis categóricas exibem independência ou manifestam uma associação estatisticamente significativa."
      ],
      "metadata": {
        "id": "XGNIQsMkhX-7"
      }
    },
    {
      "cell_type": "code",
      "source": [
        "# Criando uma tabela de contingência\n",
        "contingency_table = pd.crosstab(drug_safety['trx'], drug_safety['adverse_effects'])"
      ],
      "metadata": {
        "id": "Xz5OGhMPhXs-"
      },
      "execution_count": null,
      "outputs": []
    },
    {
      "cell_type": "code",
      "source": [
        "contingency_table"
      ],
      "metadata": {
        "id": "uOOVh6yJh4lJ"
      },
      "execution_count": null,
      "outputs": []
    },
    {
      "cell_type": "markdown",
      "source": [
        "A execução de um teste z para proporções torna-se valiosa quando há necessidade de comparar as proporções de duas amostras e discernir se a diferença observada possui significância estatística. Esta abordagem de teste é comumente empregada quando se lida com variáveis binárias ou categóricas, especialmente quando o objetivo é avaliar se as proporções dessas categorias apresentam uma discrepância significativa entre dois grupos distintos."
      ],
      "metadata": {
        "id": "J11HlpSSiPN5"
      }
    },
    {
      "cell_type": "code",
      "source": [
        "# Executing a z proportion test\n",
        "two_sample_proportions_test = sm.stats.proportions_ztest(contingency_table.iloc[:, 1], contingency_table.sum(axis=1))"
      ],
      "metadata": {
        "id": "uvTmzCj0ibvY"
      },
      "execution_count": null,
      "outputs": []
    },
    {
      "cell_type": "code",
      "source": [
        "# Imprimindo o resultado apenas para checar\n",
        "two_sample_proportions_test"
      ],
      "metadata": {
        "id": "1NoXKZW7iihq"
      },
      "execution_count": null,
      "outputs": []
    },
    {
      "cell_type": "code",
      "source": [
        "# Extraindo o p-value do resultado\n",
        "two_sample_p_value = two_sample_proportions_test[1]"
      ],
      "metadata": {
        "id": "_UiM649LimUG"
      },
      "execution_count": null,
      "outputs": []
    },
    {
      "cell_type": "code",
      "source": [
        "# Imprimindo o p-value como requisitado\n",
        "print(f\"A proporção de efeitos adversos entre o grupo de drogas e placebo com p-value é: {two_sample_p_value}\")"
      ],
      "metadata": {
        "id": "gt31Jf9VivwY"
      },
      "execution_count": null,
      "outputs": []
    },
    {
      "cell_type": "markdown",
      "source": [
        "## Conclusions:\n",
        "A high p-value as 0,96 suggests that there's not enough statisticals evidence to reject the null hypothesis that the proportions are equials. For this reason, the observed difference may be due to chance, and there's no significant difference between the groups in terms of proportion of adverse effects with Placebo or Drugs."
      ],
      "metadata": {
        "id": "lYfx2QOIi0Z_"
      }
    },
    {
      "cell_type": "markdown",
      "source": [
        "# Question 2:\n",
        "Find out if the number of adverse effects is independent of the treatment and control groups, saving as a variable called **num_effects_p_value** containing a p-value."
      ],
      "metadata": {
        "id": "07zmixBDi4cC"
      }
    },
    {
      "cell_type": "markdown",
      "source": [
        "Well, to determine if the number of adverse affects is independent of the treatment and control groups. We can use the \"CHI-SQUARE\" test"
      ],
      "metadata": {
        "id": "ov2XQT8Di9yO"
      }
    },
    {
      "cell_type": "code",
      "source": [
        "# Creating a contingency table between 'trx' (aka treatment) and 'num_effects' (number of adverse effects )\n",
        "contingency_table_num_effects = pd.crosstab(drug_safety['trx'], drug_safety['num_effects'])"
      ],
      "metadata": {
        "id": "uvjd1AN_jB5K"
      },
      "execution_count": null,
      "outputs": []
    },
    {
      "cell_type": "code",
      "source": [
        "# Checking the results of the table\n",
        "contingency_table_num_effects"
      ],
      "metadata": {
        "id": "BahlVlgpjFbO"
      },
      "execution_count": null,
      "outputs": []
    },
    {
      "cell_type": "code",
      "source": [
        "# Executing the CHI-Square tests\n",
        "chi2, num_effects_p_value, _, _ = chi2_contingency(contingency_table_num_effects)"
      ],
      "metadata": {
        "id": "MIjnRfa3jKKU"
      },
      "execution_count": null,
      "outputs": []
    },
    {
      "cell_type": "code",
      "source": [
        "# Checking the results\n",
        "print(f\"P-value of the independent number of adverse effects from treatments and control groups:{num_effects_p_value}\")"
      ],
      "metadata": {
        "id": "_fXgubFhjOIO"
      },
      "execution_count": null,
      "outputs": []
    },
    {
      "cell_type": "markdown",
      "source": [
        "## **Conclusions:**\n",
        "\n",
        "With a p-value of 0,6 -> as this case did not choose the significance level we are going to use 0,05 as the pattern in literature. In this case, there's not enough statistical evidence to reject the null hypothesis. So, we cannot assert a significant association between the number of adverse effects and the treatment control groups.\n",
        "\n",
        "In other words: this implies that, we can concluded with the simple statistical tests that there's not indication of type of treatment (Drug or Placebo) is linked to a distinct number of adverse effects."
      ],
      "metadata": {
        "id": "UEbfGyDgjT5O"
      }
    },
    {
      "cell_type": "markdown",
      "source": [
        "# **Question 3:**\n",
        "\n",
        "Examine if there is a significant difference between the ages of the Drug and Placebo groups, storing the p-value of your test in a variable called **age_group_effects_p_value**."
      ],
      "metadata": {
        "id": "JO_FLEq1j37l"
      }
    },
    {
      "cell_type": "code",
      "source": [
        "# Extracting the age of the drugs group\n",
        "age_drug = drug_safety[drug_safety['trx'] == 'Drug']['age']\n",
        "age_drug.head()"
      ],
      "metadata": {
        "id": "VHJ47sZmj7qg"
      },
      "execution_count": null,
      "outputs": []
    },
    {
      "cell_type": "code",
      "source": [
        "# Extracting the age of the placebo group\n",
        "age_placebo = drug_safety[drug_safety['trx'] == 'Placebo']['age']\n",
        "age_placebo.head()"
      ],
      "metadata": {
        "id": "ftofas6_j_mM"
      },
      "execution_count": null,
      "outputs": []
    },
    {
      "cell_type": "markdown",
      "source": [
        "# T-Test\n",
        "\n",
        "For this context, the T-Test can be used to determine if there is a significant difference between the ages of the Drug and Placebo groups. This type of test is useful when we are working with continuous variables such as 'ages' in this question, to compare the means of two independent groups to understand if there's significance statistical difference or not."
      ],
      "metadata": {
        "id": "9syuwEyBkXmv"
      }
    },
    {
      "cell_type": "code",
      "source": [
        "# Executing T-test\n",
        "t_stat, age_group_effects_p_value = ttest_ind(age_drug, age_placebo, nan_policy='omit')"
      ],
      "metadata": {
        "id": "qRcaBzgzkaL2"
      },
      "execution_count": null,
      "outputs": []
    },
    {
      "cell_type": "code",
      "source": [
        "# Checking the results\n",
        "print(f\"P-value for significance between Drug and Placebo groups:{age_group_effects_p_value}\")"
      ],
      "metadata": {
        "id": "qTjFI95UkeJi"
      },
      "execution_count": null,
      "outputs": []
    },
    {
      "cell_type": "markdown",
      "source": [
        "## Conclusion:\n",
        "\n",
        "Well,the p-value is o,13 wich is higher than the level of significance that we are using in this case (0,05). So, there's not enough statistical evidence to reject the null hypothesis as well.\n",
        "We cannot afirm that there's a significative differente between ages of the Drugs and Placebo Groups. We can conclude that each case should be studied as one, since there's not enough evidence to conclude otherwise."
      ],
      "metadata": {
        "id": "Rvoy5Qohkh4J"
      }
    }
  ]
}